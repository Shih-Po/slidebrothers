{
 "cells": [
  {
   "cell_type": "code",
   "execution_count": 1,
   "metadata": {
    "collapsed": true
   },
   "outputs": [],
   "source": [
    "import requests\n",
    "from bs4 import BeautifulSoup"
   ]
  },
  {
   "cell_type": "code",
   "execution_count": 38,
   "metadata": {
    "collapsed": false
   },
   "outputs": [
    {
     "data": {
      "text/plain": [
       "'ascii'"
      ]
     },
     "execution_count": 38,
     "metadata": {},
     "output_type": "execute_result"
    }
   ],
   "source": [
    "import sys\n",
    "sys.getdefaultencoding()\n",
    "\n",
    "reload(sys)\n",
    "\n",
    "sys.getdefaultencoding()\n",
    "\n"
   ]
  },
  {
   "cell_type": "code",
   "execution_count": 52,
   "metadata": {
    "collapsed": true
   },
   "outputs": [],
   "source": [
    "sys.setdefaultencoding('ascii')"
   ]
  },
  {
   "cell_type": "code",
   "execution_count": 53,
   "metadata": {
    "collapsed": false
   },
   "outputs": [
    {
     "ename": "UnicodeEncodeError",
     "evalue": "'ascii' codec can't encode character u'\\xc5' in position 124: ordinal not in range(128)",
     "output_type": "error",
     "traceback": [
      "\u001b[0;31m---------------------------------------------------------------------------\u001b[0m",
      "\u001b[0;31mUnicodeEncodeError\u001b[0m                        Traceback (most recent call last)",
      "\u001b[0;32m<ipython-input-53-1e9865a6304f>\u001b[0m in \u001b[0;36m<module>\u001b[0;34m()\u001b[0m\n\u001b[1;32m      3\u001b[0m \u001b[0mres\u001b[0m \u001b[0;34m=\u001b[0m \u001b[0mrequests\u001b[0m\u001b[0;34m.\u001b[0m\u001b[0mget\u001b[0m\u001b[0;34m(\u001b[0m\u001b[0;34m\"http://www.omdbapi.com/?i=tt0107349&plot=full&r=json\"\u001b[0m\u001b[0;34m)\u001b[0m\u001b[0;34m\u001b[0m\u001b[0m\n\u001b[1;32m      4\u001b[0m \u001b[0;32mwith\u001b[0m \u001b[0mopen\u001b[0m\u001b[0;34m(\u001b[0m\u001b[0;34m'tmp.json'\u001b[0m\u001b[0;34m,\u001b[0m\u001b[0;34m'w'\u001b[0m\u001b[0;34m)\u001b[0m \u001b[0;32mas\u001b[0m \u001b[0mf\u001b[0m\u001b[0;34m:\u001b[0m\u001b[0;34m\u001b[0m\u001b[0m\n\u001b[0;32m----> 5\u001b[0;31m     \u001b[0mf\u001b[0m\u001b[0;34m.\u001b[0m\u001b[0mwrite\u001b[0m\u001b[0;34m(\u001b[0m\u001b[0mres\u001b[0m\u001b[0;34m.\u001b[0m\u001b[0mtext\u001b[0m\u001b[0;34m)\u001b[0m\u001b[0;34m\u001b[0m\u001b[0m\n\u001b[0m",
      "\u001b[0;31mUnicodeEncodeError\u001b[0m: 'ascii' codec can't encode character u'\\xc5' in position 124: ordinal not in range(128)"
     ]
    }
   ],
   "source": [
    "import json\n",
    "\n",
    "res = requests.get(\"http://www.omdbapi.com/?i=tt0107349&plot=full&r=json\")\n",
    "with open('tmp.json','w') as f:\n",
    "    f.write(res.text)\n"
   ]
  },
  {
   "cell_type": "code",
   "execution_count": 37,
   "metadata": {
    "collapsed": false
   },
   "outputs": [
    {
     "name": "stdout",
     "output_type": "stream",
     "text": [
      "{\"Title\":\"The Slingshot\",\"Year\":\"1993\",\"Rated\":\"R\",\"Released\":\"03 Jun 1994\",\"Runtime\":\"102 min\",\"Genre\":\"Drama\",\"Director\":\"Åke Sandgren\",\"Writer\":\"Åke Sandgren, Roland Schütt (book)\",\"Actors\":\"Jesper Salén, Stellan Skarsgård, Basia Frydman, Niklas Olund\",\"Plot\":\"Stocholm in the 1920s. Young Roland lives with his socialist father, Jewish mother and a boxing brother. His mother sells condoms illegally, and from them, Roland makes slingshots which he sells. His rebellious ways has gotten him the special attention of his school teacher, who always makes sure that Roland is punished. Roland also tries to make extra money by repairing bicycles, a successful business that in the end lands him in hot water.\",\"Language\":\"Swedish\",\"Country\":\"Denmark, Sweden\",\"Awards\":\"1 win.\",\"Poster\":\"http://ia.media-imdb.com/images/M/MV5BMTI4OTM2Njg1MV5BMl5BanBnXkFtZTYwODAyNzg5._V1_SX300.jpg\",\"Metascore\":\"N/A\",\"imdbRating\":\"6.5\",\"imdbVotes\":\"1,548\",\"imdbID\":\"tt0107349\",\"Type\":\"movie\",\"Response\":\"True\"}\n"
     ]
    }
   ],
   "source": [
    "print(res.text)"
   ]
  },
  {
   "cell_type": "code",
   "execution_count": 27,
   "metadata": {
    "collapsed": false
   },
   "outputs": [
    {
     "data": {
      "text/plain": [
       "u'\"{\\\\\"Title\\\\\":\\\\\"The Slingshot\\\\\",\\\\\"Year\\\\\":\\\\\"1993\\\\\",\\\\\"Rated\\\\\":\\\\\"R\\\\\",\\\\\"Released\\\\\":\\\\\"03 Jun 1994\\\\\",\\\\\"Runtime\\\\\":\\\\\"102 min\\\\\",\\\\\"Genre\\\\\":\\\\\"Drama\\\\\",\\\\\"Director\\\\\":\\\\\"\\xc5ke Sandgren\\\\\",\\\\\"Writer\\\\\":\\\\\"\\xc5ke Sandgren, Roland Sch\\xfctt (book)\\\\\",\\\\\"Actors\\\\\":\\\\\"Jesper Sal\\xe9n, Stellan Skarsg\\xe5rd, Basia Frydman, Niklas Olund\\\\\",\\\\\"Plot\\\\\":\\\\\"Stocholm in the 1920s. Young Roland lives with his socialist father, Jewish mother and a boxing brother. His mother sells condoms illegally, and from them, Roland makes slingshots which he sells. His rebellious ways has gotten him the special attention of his school teacher, who always makes sure that Roland is punished. Roland also tries to make extra money by repairing bicycles, a successful business that in the end lands him in hot water.\\\\\",\\\\\"Language\\\\\":\\\\\"Swedish\\\\\",\\\\\"Country\\\\\":\\\\\"Denmark, Sweden\\\\\",\\\\\"Awards\\\\\":\\\\\"1 win.\\\\\",\\\\\"Poster\\\\\":\\\\\"http://ia.media-imdb.com/images/M/MV5BMTI4OTM2Njg1MV5BMl5BanBnXkFtZTYwODAyNzg5._V1_SX300.jpg\\\\\",\\\\\"Metascore\\\\\":\\\\\"N/A\\\\\",\\\\\"imdbRating\\\\\":\\\\\"6.5\\\\\",\\\\\"imdbVotes\\\\\":\\\\\"1,548\\\\\",\\\\\"imdbID\\\\\":\\\\\"tt0107349\\\\\",\\\\\"Type\\\\\":\\\\\"movie\\\\\",\\\\\"Response\\\\\":\\\\\"True\\\\\"}\"'"
      ]
     },
     "execution_count": 27,
     "metadata": {},
     "output_type": "execute_result"
    }
   ],
   "source": [
    "json.dumps(res.text, ensure_ascii=False)"
   ]
  },
  {
   "cell_type": "code",
   "execution_count": 22,
   "metadata": {
    "collapsed": false
   },
   "outputs": [],
   "source": [
    "import codecs"
   ]
  },
  {
   "cell_type": "code",
   "execution_count": 23,
   "metadata": {
    "collapsed": false
   },
   "outputs": [
    {
     "data": {
      "text/plain": [
       "'{\"Title\":\"The Slingshot\",\"Year\":\"1993\",\"Rated\":\"R\",\"Released\":\"03 Jun 1994\",\"Runtime\":\"102 min\",\"Genre\":\"Drama\",\"Director\":\"\\xc3\\x85ke Sandgren\",\"Writer\":\"\\xc3\\x85ke Sandgren, Roland Sch\\xc3\\xbctt (book)\",\"Actors\":\"Jesper Sal\\xc3\\xa9n, Stellan Skarsg\\xc3\\xa5rd, Basia Frydman, Niklas Olund\",\"Plot\":\"Stocholm in the 1920s. Young Roland lives with his socialist father, Jewish mother and a boxing brother. His mother sells condoms illegally, and from them, Roland makes slingshots which he sells. His rebellious ways has gotten him the special attention of his school teacher, who always makes sure that Roland is punished. Roland also tries to make extra money by repairing bicycles, a successful business that in the end lands him in hot water.\",\"Language\":\"Swedish\",\"Country\":\"Denmark, Sweden\",\"Awards\":\"1 win.\",\"Poster\":\"http://ia.media-imdb.com/images/M/MV5BMTI4OTM2Njg1MV5BMl5BanBnXkFtZTYwODAyNzg5._V1_SX300.jpg\",\"Metascore\":\"N/A\",\"imdbRating\":\"6.5\",\"imdbVotes\":\"1,548\",\"imdbID\":\"tt0107349\",\"Type\":\"movie\",\"Response\":\"True\"}'"
      ]
     },
     "execution_count": 23,
     "metadata": {},
     "output_type": "execute_result"
    }
   ],
   "source": [
    "codecs.encode(res.text,'utf-8')"
   ]
  },
  {
   "cell_type": "code",
   "execution_count": 47,
   "metadata": {
    "collapsed": false
   },
   "outputs": [],
   "source": [
    "f = open('tmp.json','w')\n",
    "f.write(res.text)\n",
    "f.close()"
   ]
  },
  {
   "cell_type": "code",
   "execution_count": 45,
   "metadata": {
    "collapsed": false
   },
   "outputs": [],
   "source": [
    "print(res.text)"
   ]
  },
  {
   "cell_type": "code",
   "execution_count": 21,
   "metadata": {
    "collapsed": false
   },
   "outputs": [],
   "source": [
    "f = open('ml-latest-small/links.csv','r')"
   ]
  },
  {
   "cell_type": "code",
   "execution_count": 22,
   "metadata": {
    "collapsed": false
   },
   "outputs": [],
   "source": [
    "lines = f.readlines()"
   ]
  },
  {
   "cell_type": "code",
   "execution_count": 23,
   "metadata": {
    "collapsed": true
   },
   "outputs": [],
   "source": [
    "f.close()"
   ]
  },
  {
   "cell_type": "code",
   "execution_count": 24,
   "metadata": {
    "collapsed": false
   },
   "outputs": [
    {
     "data": {
      "text/plain": [
       "10329"
      ]
     },
     "execution_count": 24,
     "metadata": {},
     "output_type": "execute_result"
    }
   ],
   "source": [
    "len(lines)"
   ]
  },
  {
   "cell_type": "markdown",
   "metadata": {},
   "source": []
  },
  {
   "cell_type": "code",
   "execution_count": null,
   "metadata": {
    "collapsed": true
   },
   "outputs": [],
   "source": []
  }
 ],
 "metadata": {
  "kernelspec": {
   "display_name": "Python 2",
   "language": "python",
   "name": "python2"
  },
  "language_info": {
   "codemirror_mode": {
    "name": "ipython",
    "version": 2
   },
   "file_extension": ".py",
   "mimetype": "text/x-python",
   "name": "python",
   "nbconvert_exporter": "python",
   "pygments_lexer": "ipython2",
   "version": "2.7.11"
  }
 },
 "nbformat": 4,
 "nbformat_minor": 0
}
