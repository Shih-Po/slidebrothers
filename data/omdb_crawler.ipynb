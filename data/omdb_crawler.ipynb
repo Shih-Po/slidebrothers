{
 "cells": [
  {
   "cell_type": "code",
   "execution_count": 1,
   "metadata": {
    "collapsed": false
   },
   "outputs": [],
   "source": [
    "import requests\n",
    "from bs4 import BeautifulSoup\n",
    "import time\n",
    "import random"
   ]
  },
  {
   "cell_type": "code",
   "execution_count": 2,
   "metadata": {
    "collapsed": false
   },
   "outputs": [
    {
     "name": "stdout",
     "output_type": "stream",
     "text": [
      "{\"Title\":\"Toy Story\",\"Year\":\"1995\",\"Rated\":\"G\",\"Released\":\"22 Nov 1995\",\"Runtime\":\"81 min\",\"Genre\":\"Animation, Adventure, Comedy\",\"Director\":\"John Lasseter\",\"Writer\":\"John Lasseter (original story by), Pete Docter (original story by), Andrew Stanton (original story by), Joe Ranft (original story by), Joss Whedon (screenplay), Andrew Stanton (screenplay), Joel Cohen (screenplay), Alec Sokolow (screenplay)\",\"Actors\":\"Tom Hanks, Tim Allen, Don Rickles, Jim Varney\",\"Plot\":\"A cowboy doll is profoundly threatened and jealous when a new spaceman figure supplants him as top toy in a boy's room.\",\"Language\":\"English\",\"Country\":\"USA\",\"Awards\":\"Nominated for 3 Oscars. Another 23 wins & 18 nominations.\",\"Poster\":\"http://ia.media-imdb.com/images/M/MV5BMTgwMjI4MzU5N15BMl5BanBnXkFtZTcwMTMyNTk3OA@@._V1_SX300.jpg\",\"Metascore\":\"92\",\"imdbRating\":\"8.3\",\"imdbVotes\":\"599,356\",\"imdbID\":\"tt0114709\",\"Type\":\"movie\",\"Response\":\"True\"}\n"
     ]
    }
   ],
   "source": [
    "# test request\n",
    "res = requests.get(\"http://www.omdbapi.com/?i=tt0114709&plot=short&r=json\")\n",
    "print(res.text)"
   ]
  },
  {
   "cell_type": "code",
   "execution_count": 3,
   "metadata": {
    "collapsed": false
   },
   "outputs": [
    {
     "data": {
      "text/plain": [
       "10329"
      ]
     },
     "execution_count": 3,
     "metadata": {},
     "output_type": "execute_result"
    }
   ],
   "source": [
    "# read the csv file and assian to a obj\n",
    "omdb_links = open('../ml-latest-small/links.csv', 'r')\n",
    "omdb_full_lines = omdb_links.readlines()\n",
    "\n",
    "# remember close file obj\n",
    "omdb_links.close()\n",
    "\n",
    "# show the links len\n",
    "len(omdb_full_lines)"
   ]
  },
  {
   "cell_type": "code",
   "execution_count": 4,
   "metadata": {
    "collapsed": false
   },
   "outputs": [
    {
     "name": "stdout",
     "output_type": "stream",
     "text": [
      "tt0113497\n"
     ]
    }
   ],
   "source": [
    "# 串接成 imdb id\n",
    "print('tt' + omdb_full_lines[1].split(',')[1])"
   ]
  },
  {
   "cell_type": "code",
   "execution_count": 5,
   "metadata": {
    "collapsed": false,
    "scrolled": true
   },
   "outputs": [],
   "source": [
    "# get the omdb API, then add the content to a json file\n",
    "with open ('omdb.json', 'a') as t:\n",
    "    \n",
    "    # 1. start the json file\n",
    "    t.write('[ ')\n",
    "    \n",
    "    # 2. use for loop to get omdb API content\n",
    "    for i in range(len(omdb_full_lines)):\n",
    "        imdb_id = 'tt' + omdb_full_lines[i].split(',')[1]\n",
    "        res = requests.get(\"http://www.omdbapi.com/?i=\" + imdb_id + \"&plot=short&r=json\")\n",
    "\n",
    "        # res.text 是 res 的 str 版\n",
    "        # 這裡將 res.text 抓到的 unicode string 轉為 utf-8\n",
    "        movie = res.text.encode('utf-8')\n",
    "        \n",
    "        # split the json file\n",
    "        if i < len(omdb_full_lines)-1:\n",
    "            t.write(movie + ', ')\n",
    "        else:\n",
    "            t.write(movie)   \n",
    "\n",
    "        # rest for a while\n",
    "        time.sleep(random.randrange(0, 2, 1))\n",
    "    \n",
    "    \n",
    "    # 3. complete the json file\n",
    "    t.write(' ]')"
   ]
  },
  {
   "cell_type": "code",
   "execution_count": 16,
   "metadata": {
    "collapsed": false
   },
   "outputs": [],
   "source": [
    "# get the omdb API, then add the content to a json file\n",
    "with open ('tmp.json', 'a') as t:\n",
    "    \n",
    "    # 1. start the json file\n",
    "    t.write('[ ')\n",
    "    \n",
    "    # 2. use for loop to get omdb API content\n",
    "    for i in range(100):\n",
    "        imdb_id = 'tt' + omdb_full_lines[i].split(',')[1]\n",
    "        res = requests.get(\"http://www.omdbapi.com/?i=\" + imdb_id + \"&plot=short&r=json\")\n",
    "\n",
    "        # res.text 是 res 的 str 版\n",
    "        # 這裡將 res.text 抓到的 unicode string 轉為 utf-8\n",
    "        movie = res.text.encode('utf-8')\n",
    "        \n",
    "        # split the json file\n",
    "        if i < 100-1:\n",
    "            t.write(movie + ', ')\n",
    "        else:\n",
    "            t.write(movie)   \n",
    "\n",
    "        # rest for a while\n",
    "        # time.sleep(random.randrange(0, 2, 1))\n",
    "    \n",
    "    \n",
    "    # 3. complete the json file\n",
    "    t.write(' ]')"
   ]
  },
  {
   "cell_type": "code",
   "execution_count": null,
   "metadata": {
    "collapsed": true
   },
   "outputs": [],
   "source": []
  }
 ],
 "metadata": {
  "kernelspec": {
   "display_name": "Python 2",
   "language": "python",
   "name": "python2"
  },
  "language_info": {
   "codemirror_mode": {
    "name": "ipython",
    "version": 2
   },
   "file_extension": ".py",
   "mimetype": "text/x-python",
   "name": "python",
   "nbconvert_exporter": "python",
   "pygments_lexer": "ipython2",
   "version": "2.7.11"
  }
 },
 "nbformat": 4,
 "nbformat_minor": 0
}
