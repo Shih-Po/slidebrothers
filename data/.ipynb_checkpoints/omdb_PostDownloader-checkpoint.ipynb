{
 "cells": [
  {
   "cell_type": "code",
   "execution_count": 64,
   "metadata": {
    "collapsed": true
   },
   "outputs": [],
   "source": [
    "import json\n",
    "import urllib"
   ]
  },
  {
   "cell_type": "code",
   "execution_count": 65,
   "metadata": {
    "collapsed": false
   },
   "outputs": [
    {
     "name": "stdout",
     "output_type": "stream",
     "text": [
      "0\n"
     ]
    }
   ],
   "source": [
    "# load the omdb_json\n",
    "with open(\"/Users/shipo/Projects/slidebrothers/data/omdb.json\") as omdb_json_path:\n",
    "    omdb_json = json.load(omdb_json_path)\n",
    "\n",
    "# download Poster by imdbID, url(Poster)\n",
    "for i in range(len(omdb_json)):\n",
    "    imdbID = omdb_json[i]['imdbID']\n",
    "    url = omdb_json[i]['Poster']\n",
    "    noimage = \"http://www.saritepe.boun.edu.tr/sites/default/files/styles/kitap_kapak__b_y_k_/public/default_images/noImage%5B1%5D.jpg?itok=jMD8Hj-S\"\n",
    "    path = \"/Users/shipo/Projects/slidebrothers/data/Poster/\" + imdbID + \".jpg\"\n",
    "\n",
    "    # save img to data/Poster\n",
    "    if len(imdbID) != 9 or url == \"N/A\":\n",
    "        print(\"not a good format\")\n",
    "        urllib.urlretrieve(noimage, path)\n",
    "    else:\n",
    "        urllib.urlretrieve(url, path)\n",
    "    \n",
    "    # show the loading\n",
    "    if i % 100 == 0:\n",
    "        print(i)"
   ]
  },
  {
   "cell_type": "code",
   "execution_count": 66,
   "metadata": {
    "collapsed": false
   },
   "outputs": [
    {
     "data": {
      "text/plain": [
       "('/Users/shipo/Projects/slidebrothers/data/Poster/aaa.jpg',\n",
       " <httplib.HTTPMessage instance at 0x10ade5ab8>)"
      ]
     },
     "execution_count": 66,
     "metadata": {},
     "output_type": "execute_result"
    }
   ],
   "source": [
    "urllib.urlretrieve(noimage, \"/Users/shipo/Projects/slidebrothers/data/Poster/aaa.jpg\")"
   ]
  },
  {
   "cell_type": "code",
   "execution_count": null,
   "metadata": {
    "collapsed": true
   },
   "outputs": [],
   "source": []
  }
 ],
 "metadata": {
  "kernelspec": {
   "display_name": "Python 2",
   "language": "python",
   "name": "python2"
  }
 },
 "nbformat": 4,
 "nbformat_minor": 0
}
