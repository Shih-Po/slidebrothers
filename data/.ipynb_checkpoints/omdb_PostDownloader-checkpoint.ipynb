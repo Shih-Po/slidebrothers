{
 "cells": [
  {
   "cell_type": "code",
   "execution_count": 75,
   "metadata": {
    "collapsed": true
   },
   "outputs": [],
   "source": [
    "import json\n",
    "import urllib\n",
    "import time\n",
    "import random"
   ]
  },
  {
   "cell_type": "code",
   "execution_count": 107,
   "metadata": {
    "collapsed": false
   },
   "outputs": [
    {
     "name": "stdout",
     "output_type": "stream",
     "text": [
      "0\n",
      "200\n",
      "400\n",
      "('not a good format', 501)\n",
      "600\n",
      "('not a good format', 643)\n",
      "('not a good format', 687)\n",
      "('not a good format', 704)\n",
      "800\n",
      "('not a good format', 920)\n",
      "1000\n",
      "('not a good format', 1155)\n",
      "('not a good format', 1157)\n",
      "1200\n",
      "('not a good format', 1351)\n",
      "1400\n",
      "('not a good format', 1403)\n",
      "1600\n",
      "1800\n",
      "2000\n",
      "2200\n",
      "2400\n",
      "('not a good format', 2432)\n",
      "2600\n",
      "2800\n",
      "3000\n",
      "3200\n",
      "3400\n",
      "3600\n",
      "3800\n",
      "4000\n",
      "4200\n",
      "4400\n",
      "4600\n",
      "4800\n",
      "5000\n",
      "('not a good format', 5037)\n",
      "5200\n",
      "5400\n",
      "5600\n",
      "5800\n",
      "6000\n",
      "6200\n",
      "('not a good format', 6294)\n",
      "('Error', 6294)\n",
      "6400\n",
      "6600\n",
      "6800\n",
      "('not a good format', 6954)\n",
      "7000\n",
      "7200\n",
      "7400\n",
      "7600\n",
      "7800\n",
      "8000\n",
      "8200\n",
      "('not a good format', 8201)\n",
      "8400\n",
      "('not a good format', 8469)\n",
      "('not a good format', 8500)\n",
      "('not a good format', 8514)\n",
      "('not a good format', 8553)\n",
      "('not a good format', 8598)\n",
      "8600\n",
      "('not a good format', 8648)\n",
      "8800\n",
      "('not a good format', 8865)\n",
      "('not a good format', 8967)\n",
      "9000\n",
      "('not a good format', 9032)\n",
      "('not a good format', 9077)\n",
      "('not a good format', 9088)\n",
      "9200\n",
      "('not a good format', 9290)\n",
      "('not a good format', 9335)\n",
      "('not a good format', 9391)\n",
      "9400\n",
      "('not a good format', 9488)\n",
      "('Error', 9488)\n",
      "9600\n",
      "('not a good format', 9672)\n",
      "('not a good format', 9751)\n",
      "('not a good format', 9774)\n",
      "9800\n",
      "('not a good format', 9810)\n",
      "('Error', 9810)\n",
      "('not a good format', 9817)\n",
      "10000\n",
      "('not a good format', 10011)\n",
      "('not a good format', 10028)\n",
      "('not a good format', 10038)\n",
      "('not a good format', 10045)\n",
      "('Error', 10045)\n",
      "('not a good format', 10087)\n",
      "10200\n",
      "('not a good format', 10280)\n"
     ]
    }
   ],
   "source": [
    "# load the omdb_json\n",
    "with open(\"/Users/shipo/Projects/slidebrothers/data/omdb.json\") as omdb_json_path:\n",
    "    omdb_json = json.load(omdb_json_path)\n",
    "\n",
    "\n",
    "error_list = []\n",
    "\n",
    "# download Poster by imdbID, url(Poster)\n",
    "for i in range(len(omdb_json)):\n",
    "    imdbID = omdb_json[i]['imdbID']\n",
    "    url = omdb_json[i]['Poster']\n",
    "    noimage = \"http://www.saritepe.boun.edu.tr/sites/default/files/styles/kitap_kapak__b_y_k_/public/default_images/noImage%5B1%5D.jpg?itok=jMD8Hj-S\"\n",
    "    path = \"/Users/shipo/Projects/slidebrothers/data/Poster/\" + imdbID + \".jpg\"\n",
    "    \n",
    "    # save img to data/Poster\n",
    "    try:\n",
    "        if len(imdbID) != 9 or url == \"N/A\":\n",
    "            print(\"not a good format\", i)\n",
    "            urllib.urlretrieve(noimage, path)\n",
    "        else:\n",
    "            urllib.urlretrieve(url, path)\n",
    "        \n",
    "    #except IOError:\n",
    "    except IOError:\n",
    "        print(\"Error\", i)\n",
    "        error_list.append(i)\n",
    "    \n",
    "    else:\n",
    "        if i % 200 == 0:\n",
    "            print(i)\n",
    "            "
   ]
  },
  {
   "cell_type": "code",
   "execution_count": 116,
   "metadata": {
    "collapsed": false
   },
   "outputs": [
    {
     "name": "stdout",
     "output_type": "stream",
     "text": [
      "[6294, 9488, 9810, 10045, 0]\n",
      "6294\n",
      "9488\n",
      "9810\n",
      "10045\n",
      "0\n"
     ]
    }
   ],
   "source": [
    "# test error_list\n",
    "error_list[0]\n",
    "print(error_list)\n",
    "\n",
    "for i in range(len(error_list)):\n",
    "    ei = error_list[i]\n",
    "    print(ei)\n",
    "\n",
    "#imdbID = omdb_json[i]['imdbID']\n",
    "#url = omdb_json[i]['Poster']"
   ]
  },
  {
   "cell_type": "code",
   "execution_count": 117,
   "metadata": {
    "collapsed": false
   },
   "outputs": [
    {
     "name": "stdout",
     "output_type": "stream",
     "text": [
      "('not a good format', 0)\n",
      "6294\n",
      "('not a good format', 1)\n",
      "9488\n",
      "('not a good format', 2)\n",
      "9810\n",
      "('not a good format', 3)\n",
      "10045\n",
      "0\n"
     ]
    }
   ],
   "source": [
    "# re-download Posters by error_list[i]\n",
    "for i in range(len(error_list)):\n",
    "    ei = error_list[i]\n",
    "    imdbID = omdb_json[ei]['imdbID']\n",
    "    url = omdb_json[ei]['Poster']\n",
    "    noimage = \"http://www.saritepe.boun.edu.tr/sites/default/files/styles/kitap_kapak__b_y_k_/public/default_images/noImage%5B1%5D.jpg?itok=jMD8Hj-S\"\n",
    "    path = \"/Users/shipo/Projects/slidebrothers/data/Poster/\" + imdbID + \".jpg\"\n",
    "\n",
    "    try:\n",
    "        if len(imdbID) != 9 or url == \"N/A\":\n",
    "            print(\"not a good format\", i)\n",
    "            urllib.urlretrieve(noimage, path)\n",
    "        else:\n",
    "            urllib.urlretrieve(url, path)\n",
    "        \n",
    "    #except IOError:\n",
    "    except IOError:\n",
    "        print(\"Error\", i)\n",
    "        error_list.append(i)\n",
    "    \n",
    "    else:\n",
    "        print(ei)"
   ]
  },
  {
   "cell_type": "code",
   "execution_count": null,
   "metadata": {
    "collapsed": true
   },
   "outputs": [],
   "source": []
  }
 ],
 "metadata": {
  "kernelspec": {
   "display_name": "Python 2",
   "language": "python",
   "name": "python2"
  },
  "language_info": {
   "codemirror_mode": {
    "name": "ipython",
    "version": 2
   },
   "file_extension": ".py",
   "mimetype": "text/x-python",
   "name": "python",
   "nbconvert_exporter": "python",
   "pygments_lexer": "ipython2",
   "version": "2.7.11"
  }
 },
 "nbformat": 4,
 "nbformat_minor": 0
}
